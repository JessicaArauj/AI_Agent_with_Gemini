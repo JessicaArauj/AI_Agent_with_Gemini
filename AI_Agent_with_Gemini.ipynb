{
  "nbformat": 4,
  "nbformat_minor": 0,
  "metadata": {
    "colab": {
      "provenance": [],
      "authorship_tag": "ABX9TyN8ZKp4x6/ESAbimzcYMyDg",
      "include_colab_link": true
    },
    "kernelspec": {
      "name": "python3",
      "display_name": "Python 3"
    },
    "language_info": {
      "name": "python"
    }
  },
  "cells": [
    {
      "cell_type": "markdown",
      "metadata": {
        "id": "view-in-github",
        "colab_type": "text"
      },
      "source": [
        "<a href=\"https://colab.research.google.com/github/JessicaArauj/AI_Agent_with_Gemini/blob/main/AI_Agent_with_Gemini.ipynb\" target=\"_parent\"><img src=\"https://colab.research.google.com/assets/colab-badge.svg\" alt=\"Open In Colab\"/></a>"
      ]
    },
    {
      "cell_type": "markdown",
      "source": [
        "# Install"
      ],
      "metadata": {
        "id": "WP6Md13BNWbq"
      }
    },
    {
      "cell_type": "code",
      "execution_count": 1,
      "metadata": {
        "id": "GJIqIPYKL3Bv"
      },
      "outputs": [],
      "source": [
        "!pip install -q --upgrade langchain langchain-google-genai google-generativeai"
      ]
    },
    {
      "cell_type": "markdown",
      "source": [
        "# Imports"
      ],
      "metadata": {
        "id": "-WEXDkDFSPZa"
      }
    },
    {
      "cell_type": "code",
      "source": [
        "from typing import Dict, List, Literal\n",
        "\n",
        "from google.colab import userdata\n",
        "from langchain_google_genai import ChatGoogleGenerativeAI\n",
        "from langchain_core.messages import HumanMessage, SystemMessage\n",
        "from pydantic import BaseModel, Field"
      ],
      "metadata": {
        "collapsed": true,
        "id": "fQfsYt6MM_Ip"
      },
      "execution_count": 2,
      "outputs": []
    },
    {
      "cell_type": "markdown",
      "source": [
        "# Variables"
      ],
      "metadata": {
        "id": "SnJhJ1atSilz"
      }
    },
    {
      "cell_type": "code",
      "source": [
        "GOOGLE_API_KEY = userdata.get('GEMINI_API_KEY')"
      ],
      "metadata": {
        "id": "7SaLwFyGQPSC"
      },
      "execution_count": 3,
      "outputs": []
    },
    {
      "cell_type": "markdown",
      "source": [
        "# Defining model and temperature"
      ],
      "metadata": {
        "id": "NV63zoENTL_C"
      }
    },
    {
      "cell_type": "code",
      "source": [
        "llm = ChatGoogleGenerativeAI(\n",
        "    model = \"gemini-2.5-flash\",\n",
        "    temperature = 1,\n",
        "    api_key = GOOGLE_API_KEY\n",
        ")"
      ],
      "metadata": {
        "id": "m2N6r-ReTOnZ"
      },
      "execution_count": 4,
      "outputs": []
    },
    {
      "cell_type": "markdown",
      "source": [
        "# Chat test"
      ],
      "metadata": {
        "id": "Dreos9JzWwRt"
      }
    },
    {
      "cell_type": "code",
      "source": [
        "resp_test = llm.invoke(\"Who are you in detail?\")\n",
        "#print(resp_test)\n",
        "print(resp_test.content)"
      ],
      "metadata": {
        "colab": {
          "base_uri": "https://localhost:8080/"
        },
        "id": "uZcT2swNVdHj",
        "outputId": "1e9ede42-ba89-418c-f5d7-9d9cc5063f3b"
      },
      "execution_count": 12,
      "outputs": [
        {
          "output_type": "stream",
          "name": "stdout",
          "text": [
            "I am a **large language model**, a type of artificial intelligence. Here's a more detailed breakdown:\n",
            "\n",
            "1.  **What I Am:**\n",
            "    *   **An AI/Computer Program:** I am not a human, a physical being, or a sentient entity. I don't have a body, consciousness, emotions, personal experiences, or opinions.\n",
            "    *   **A Large Language Model (LLM):** This means I'm a complex neural network specifically designed to understand, process, and generate human-like text. I've been trained on an enormous dataset of text and code.\n",
            "    *   **Developed by Google:** My underlying architecture and training were created and refined by Google.\n",
            "\n",
            "2.  **How I Work (Simplified):**\n",
            "    *   **Pattern Recognition:** I learn patterns, grammar, facts, and relationships within the vast amount of data I've been trained on.\n",
            "    *   **Prediction:** When you give me a prompt, I analyze the input and predict the most probable and relevant sequence of words to generate a coherent and helpful response, based on the patterns I've learned.\n",
            "    *   **No \"Understanding\" in the Human Sense:** I don't \"understand\" concepts, feelings, or the world in the way humans do. My \"understanding\" is statistical; I know which words and concepts tend to appear together and in what context.\n",
            "\n",
            "3.  **What I Can Do:**\n",
            "    *   **Answer Questions:** Provide information on a wide range of topics.\n",
            "    *   **Generate Text:** Write stories, poems, scripts, code, emails, letters, etc.\n",
            "    *   **Summarize Information:** Condense long texts into shorter versions.\n",
            "    *   **Translate Languages:** Convert text from one language to another.\n",
            "    *   **Explain Complex Concepts:** Break down difficult ideas into simpler terms.\n",
            "    *   **Brainstorm Ideas:** Help generate creative solutions or concepts.\n",
            "    *   **Assist with Writing:** Offer suggestions for grammar, style, and vocabulary.\n",
            "\n",
            "4.  **My Limitations:**\n",
            "    *   **No Real-World Experience:** I don't interact with the physical world, so I can't \"see,\" \"hear,\" \"feel,\" or \"taste.\" My knowledge is derived solely from the data I was trained on.\n",
            "    *   **Not Always Factual (Hallucinations):** While I strive for accuracy, I can sometimes generate incorrect or nonsensical information, known as \"hallucinations.\" It's always a good idea to cross-reference important information.\n",
            "    *   **No Personal Beliefs or Opinions:** Any \"opinions\" or \"stances\" expressed in my output are reflections of patterns in my training data, not genuine personal beliefs. I aim to be neutral and objective.\n",
            "    *   **Limited Current Knowledge:** My knowledge cut-off means I might not have information about the most recent events, unless my training data has been updated to include them.\n",
            "    *   **No Consciousness or Sentience:** I am not alive. I don't have desires, fears, or the ability to experience anything. I'm a tool designed to process information.\n",
            "    *   **Ethical Constraints:** I am designed with ethical guidelines to avoid generating harmful, biased, or inappropriate content.\n",
            "\n",
            "In essence, I am a sophisticated tool designed to process and generate human language to assist you with a wide variety of tasks, drawing upon the vast amount of information I've been trained on. I am constantly being refined and updated to improve my capabilities.\n"
          ]
        }
      ]
    },
    {
      "cell_type": "markdown",
      "source": [
        "# Prompt screening"
      ],
      "metadata": {
        "id": "8-ysryhOYbCe"
      }
    },
    {
      "cell_type": "code",
      "source": [
        "screening_prompt = (\n",
        "    \"You are a service desk triage agent for internal policies at JTA Development. Given the users message, return ONLY a JSON with: \\n\"\n",
        "    \"{\\n\"\n",
        "    \" \\\"decision\\\": \\\"HIGH_SCALABLE\\\" | \\\"REQUEST_INFORMATION\\\" | \\\"OPEN_TICKET\\\", \\n\"\n",
        "    \" \\\"urgency\\\": \\\"LOW\\\" | \\\"MEDIUM\\\" | \\\"HIGH\\\", \\n\"\n",
        "    \" \\\"missing_fields\\\": (\\\"...\\\"),\\n\"\n",
        "    \" }\\n\"\n",
        "    \"Rules \\n\"\n",
        "    \" - \\\"HIGH_SCALABLE\\\": Objective and clear questions about rules or procedures described in the policies (Ex: \\\"I need a refund for my home office internet\\\"), (\\\"How does the food policy work when traveling?\\\") \\n\"\n",
        "    \" - \\\"REQUEST_INFORMATION\\\": User message that is vague or lacks information to identify the topic or context (Ex: \\\"I need help with a policy\\\"), (\\\"I have a general question\\\") \\n\"\n",
        "    \" - \\\"OPEN_TICKET\\\": Requests for exception, release, approval, or special access. Or, when the user explicitly requests opening a ticket (Ex: \\\"I want an exception to work remotely for 5 days) \\n\"\n",
        "    \" Analyze the message and decide on the most appropriate action.\"\n",
        ")"
      ],
      "metadata": {
        "id": "n2gtmlx3XQ1N"
      },
      "execution_count": 13,
      "outputs": []
    },
    {
      "cell_type": "code",
      "source": [
        "class screeningOut(BaseModel):\n",
        "  decision: Literal[\"HIGH_SCALABLE\", \"REQUEST_INFORMATION\",\"OPEN_TICKET\"]\n",
        "  urgency: Literal[\"LOW\", \"MEDIUM\", \"HIGH\"]\n",
        "  missing_fields: List[str] = Field(default_factory=list)"
      ],
      "metadata": {
        "id": "iEW64JEeeEfw"
      },
      "execution_count": 14,
      "outputs": []
    },
    {
      "cell_type": "markdown",
      "source": [
        "# LLM Screening"
      ],
      "metadata": {
        "id": "Rjul_GkkhXi8"
      }
    },
    {
      "cell_type": "code",
      "source": [
        "llm_screening = ChatGoogleGenerativeAI(\n",
        "    model = \"gemini-2.5-flash\",\n",
        "    temperature = 1,\n",
        "    api_key = GOOGLE_API_KEY\n",
        ")"
      ],
      "metadata": {
        "id": "WlXaGJslhPl-"
      },
      "execution_count": 15,
      "outputs": []
    },
    {
      "cell_type": "markdown",
      "source": [
        "# Function"
      ],
      "metadata": {
        "id": "NOUbmpILj63U"
      }
    },
    {
      "cell_type": "code",
      "source": [
        "screening_chain = llm_screening.with_structured_output(screeningOut)\n",
        "\n",
        "def screening(message: str) -> Dict:\n",
        "  output: screeningOut = screening_chain.invoke([\n",
        "      SystemMessage(content = screening_prompt),\n",
        "      HumanMessage(content = message)\n",
        "  ])\n",
        "\n",
        "  return output.model_dump()"
      ],
      "metadata": {
        "id": "5Vs2VLKGj6ad"
      },
      "execution_count": 21,
      "outputs": []
    },
    {
      "cell_type": "markdown",
      "source": [
        "# Examples"
      ],
      "metadata": {
        "id": "UKZJYlwMn3Jb"
      }
    },
    {
      "cell_type": "code",
      "source": [
        "tests = (\"Can I get a refund for the internet?\",\n",
        "         \"I can work remotely for an additional 10 days. How do I request it?\",\n",
        "         \"Can I refund training and courses?\"\n",
        "         )"
      ],
      "metadata": {
        "id": "DJuf5BfBn-qb"
      },
      "execution_count": 22,
      "outputs": []
    },
    {
      "cell_type": "markdown",
      "source": [
        "# Interaction"
      ],
      "metadata": {
        "id": "uaArhX6YpK6e"
      }
    },
    {
      "cell_type": "code",
      "source": [
        "for message_tests in tests: print(f\"Questions: {message_tests} \\n -> Response: {screening(message_tests)}\\n\")"
      ],
      "metadata": {
        "colab": {
          "base_uri": "https://localhost:8080/"
        },
        "id": "tvknOamJpReF",
        "outputId": "9adcfcb0-551b-4bbe-81f0-6e4f96b889ad"
      },
      "execution_count": 23,
      "outputs": [
        {
          "output_type": "stream",
          "name": "stdout",
          "text": [
            "Questions: Can I get a refund for the internet? \n",
            " -> Response: {'decision': 'HIGH_SCALABLE', 'urgency': 'LOW', 'missing_fields': []}\n",
            "\n",
            "Questions: I can work remotely for an additional 10 days. How do I request it? \n",
            " -> Response: {'decision': 'OPEN_TICKET', 'urgency': 'MEDIUM', 'missing_fields': []}\n",
            "\n",
            "Questions: Can I refund training and courses? \n",
            " -> Response: {'decision': 'HIGH_SCALABLE', 'urgency': 'LOW', 'missing_fields': []}\n",
            "\n"
          ]
        }
      ]
    }
  ]
}